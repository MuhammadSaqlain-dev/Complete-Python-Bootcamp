{
 "cells": [
  {
   "cell_type": "markdown",
   "metadata": {},
   "source": [
    "# Operators"
   ]
  },
  {
   "cell_type": "markdown",
   "metadata": {},
   "source": [
    "* Introduction to Operators\n",
    "* Arithmetic Operators\n",
    "    * Addition\n",
    "    * Subraction\n",
    "    * Multiplication\n",
    "    * Division\n",
    "    * Floor Division\n",
    "    * Modulus\n",
    "    * Exponentiation\n",
    "* Comparision Operators\n",
    "    * Equal to\n",
    "    * Not equal to \n",
    "    * Greater than\n",
    "    * Less than\n",
    "    * Greatere than or equal to \n",
    "    * Less than or equal to\n",
    "* Logical Operators\n",
    "    * AND\n",
    "    * OR \n",
    "\n",
    "Practical Example and Comman Errors"
   ]
  },
  {
   "cell_type": "markdown",
   "metadata": {},
   "source": [
    "## Arithmethic Operation"
   ]
  },
  {
   "cell_type": "code",
   "execution_count": 2,
   "metadata": {},
   "outputs": [
    {
     "name": "stdout",
     "output_type": "stream",
     "text": [
      "Add:  15\n",
      "Sub:  5\n",
      "Mult:  50\n",
      "Div:  2.0\n",
      "Floor Division :  2\n",
      "Modulus :  0\n",
      "Exponent :  100000\n"
     ]
    }
   ],
   "source": [
    "a  = 10\n",
    "b = 5\n",
    "\n",
    "add_result = a+b # Additon Operation\n",
    "sub_result = a-b # Substraction Operation\n",
    "mult_result = a*b # Multiplicaiton Operation\n",
    "div_result = a/b # Division\n",
    "floor_div_result = a//b # Floor Division\n",
    "modulus_result = a%b   # Modulus Operation\n",
    "exponet_result = a**b # Exponentiation\n",
    "\n",
    "print(\"Add: \",add_result)\n",
    "print(\"Sub: \",sub_result)\n",
    "print(\"Mult: \",mult_result)\n",
    "print(\"Div: \",div_result)\n",
    "print(\"Floor Division : \",floor_div_result)\n",
    "print(\"Modulus : \",modulus_result)\n",
    "print(\"Exponent : \",exponet_result)"
   ]
  },
  {
   "cell_type": "markdown",
   "metadata": {},
   "source": [
    "## Comparison Operators \"==\""
   ]
  },
  {
   "cell_type": "code",
   "execution_count": 3,
   "metadata": {},
   "outputs": [
    {
     "data": {
      "text/plain": [
       "True"
      ]
     },
     "execution_count": 3,
     "metadata": {},
     "output_type": "execute_result"
    }
   ],
   "source": [
    "a = 10\n",
    "b = 10\n",
    "\n",
    "a==b"
   ]
  },
  {
   "cell_type": "code",
   "execution_count": 4,
   "metadata": {},
   "outputs": [
    {
     "data": {
      "text/plain": [
       "True"
      ]
     },
     "execution_count": 4,
     "metadata": {},
     "output_type": "execute_result"
    }
   ],
   "source": [
    "str1 = \"Ali\"\n",
    "str2 = \"Ali\"\n",
    "\n",
    "str1 == str2"
   ]
  },
  {
   "cell_type": "markdown",
   "metadata": {},
   "source": [
    "## Not Equal To \"!=\""
   ]
  },
  {
   "cell_type": "code",
   "execution_count": 5,
   "metadata": {},
   "outputs": [
    {
     "data": {
      "text/plain": [
       "False"
      ]
     },
     "execution_count": 5,
     "metadata": {},
     "output_type": "execute_result"
    }
   ],
   "source": [
    "str1 != str2"
   ]
  },
  {
   "cell_type": "code",
   "execution_count": 6,
   "metadata": {},
   "outputs": [
    {
     "data": {
      "text/plain": [
       "True"
      ]
     },
     "execution_count": 6,
     "metadata": {},
     "output_type": "execute_result"
    }
   ],
   "source": [
    "str1 = \"Usman\"\n",
    "str2 = \"Ali\"\n",
    "\n",
    "str1 != str2"
   ]
  },
  {
   "cell_type": "markdown",
   "metadata": {},
   "source": [
    "## Greater Than \">\""
   ]
  },
  {
   "cell_type": "code",
   "execution_count": 7,
   "metadata": {},
   "outputs": [
    {
     "data": {
      "text/plain": [
       "False"
      ]
     },
     "execution_count": 7,
     "metadata": {},
     "output_type": "execute_result"
    }
   ],
   "source": [
    "num1 = 45\n",
    "num2 = 55\n",
    "num1>num2"
   ]
  },
  {
   "cell_type": "markdown",
   "metadata": {},
   "source": [
    "## Less Than \"<\""
   ]
  },
  {
   "cell_type": "code",
   "execution_count": 8,
   "metadata": {},
   "outputs": [
    {
     "data": {
      "text/plain": [
       "True"
      ]
     },
     "execution_count": 8,
     "metadata": {},
     "output_type": "execute_result"
    }
   ],
   "source": [
    "num1 < num2"
   ]
  },
  {
   "cell_type": "markdown",
   "metadata": {},
   "source": [
    "## Greater Than or equal to \">=\""
   ]
  },
  {
   "cell_type": "code",
   "execution_count": 10,
   "metadata": {},
   "outputs": [
    {
     "name": "stdout",
     "output_type": "stream",
     "text": [
      "True\n"
     ]
    }
   ],
   "source": [
    "number1 = 45\n",
    "number2 = 45\n",
    "\n",
    "print(number1>=number2)"
   ]
  },
  {
   "cell_type": "markdown",
   "metadata": {},
   "source": [
    "## Less Than or equal to \"<=\""
   ]
  },
  {
   "cell_type": "code",
   "execution_count": 12,
   "metadata": {},
   "outputs": [
    {
     "name": "stdout",
     "output_type": "stream",
     "text": [
      "True\n"
     ]
    }
   ],
   "source": [
    "number1 = 44\n",
    "number2 = 45\n",
    "\n",
    "print(number1<=number2)"
   ]
  },
  {
   "cell_type": "markdown",
   "metadata": {},
   "source": [
    "## Logical Operator"
   ]
  },
  {
   "cell_type": "markdown",
   "metadata": {},
   "source": [
    "### And"
   ]
  },
  {
   "cell_type": "code",
   "execution_count": 13,
   "metadata": {},
   "outputs": [
    {
     "name": "stdout",
     "output_type": "stream",
     "text": [
      "True\n"
     ]
    }
   ],
   "source": [
    "X = True\n",
    "Y = True\n",
    "\n",
    "result =  X and Y\n",
    "print(result)"
   ]
  },
  {
   "cell_type": "code",
   "execution_count": 14,
   "metadata": {},
   "outputs": [
    {
     "name": "stdout",
     "output_type": "stream",
     "text": [
      "False\n"
     ]
    }
   ],
   "source": [
    "X = True\n",
    "Y = False\n",
    "\n",
    "result =  X and Y\n",
    "print(result)"
   ]
  },
  {
   "cell_type": "markdown",
   "metadata": {},
   "source": [
    "### OR "
   ]
  },
  {
   "cell_type": "code",
   "execution_count": 16,
   "metadata": {},
   "outputs": [
    {
     "name": "stdout",
     "output_type": "stream",
     "text": [
      "True\n"
     ]
    }
   ],
   "source": [
    "X = True\n",
    "Y = False\n",
    "\n",
    "result = X or Y\n",
    "print(result)"
   ]
  },
  {
   "cell_type": "markdown",
   "metadata": {},
   "source": [
    "### Not"
   ]
  },
  {
   "cell_type": "code",
   "execution_count": 17,
   "metadata": {},
   "outputs": [
    {
     "data": {
      "text/plain": [
       "False"
      ]
     },
     "execution_count": 17,
     "metadata": {},
     "output_type": "execute_result"
    }
   ],
   "source": [
    "X = True\n",
    "not X"
   ]
  },
  {
   "cell_type": "markdown",
   "metadata": {},
   "source": [
    "## Simple Calculator"
   ]
  },
  {
   "cell_type": "code",
   "execution_count": 18,
   "metadata": {},
   "outputs": [],
   "source": [
    "nums1 = float(input(\"Enter first number: \"))\n",
    "nums2 = float(input(\"Enter second number\"))"
   ]
  },
  {
   "cell_type": "code",
   "execution_count": 19,
   "metadata": {},
   "outputs": [],
   "source": [
    "# Performing arithmetic operations\n",
    "addition = nums1 + nums2\n",
    "subtraction = nums1 - nums2\n",
    "multiplication = nums1 * nums2\n",
    "division = nums1 / nums2\n",
    "floor_division = nums1 // nums2\n",
    "modulus = nums1 % nums2\n",
    "exponentiation = nums1 ** nums2"
   ]
  },
  {
   "cell_type": "code",
   "execution_count": 22,
   "metadata": {},
   "outputs": [
    {
     "name": "stdout",
     "output_type": "stream",
     "text": [
      "Addition :  5.0\n",
      "Subtraction :  1.0\n",
      "Multiplicaiton :  6.0\n",
      "Division :  1.5\n",
      "Floor Division :  1.5\n",
      "Modulus :  1.0\n",
      "Exponentiation :  9.0\n"
     ]
    }
   ],
   "source": [
    "# Display results\n",
    "print(\"Addition : \", addition)\n",
    "print(\"Subtraction : \", subtraction)\n",
    "print(\"Multiplicaiton : \",multiplication)\n",
    "print(\"Division : \",division)\n",
    "print(\"Floor Division : \",division)\n",
    "print(\"Modulus : \",modulus)\n",
    "print(\"Exponentiation : \", exponentiation)"
   ]
  }
 ],
 "metadata": {
  "kernelspec": {
   "display_name": "Python 3",
   "language": "python",
   "name": "python3"
  },
  "language_info": {
   "codemirror_mode": {
    "name": "ipython",
    "version": 3
   },
   "file_extension": ".py",
   "mimetype": "text/x-python",
   "name": "python",
   "nbconvert_exporter": "python",
   "pygments_lexer": "ipython3",
   "version": "3.12.0"
  }
 },
 "nbformat": 4,
 "nbformat_minor": 2
}
