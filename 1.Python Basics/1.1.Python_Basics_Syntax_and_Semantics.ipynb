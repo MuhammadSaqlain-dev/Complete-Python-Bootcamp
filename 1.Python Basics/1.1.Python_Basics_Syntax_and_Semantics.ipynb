{
  "cells": [
    {
      "cell_type": "markdown",
      "metadata": {
        "id": "U5ixNXAkA5_8"
      },
      "source": [
        "# Syntax and Semantics in Python\n",
        "\n",
        "*   Definition of Syntax and Semantics.\n",
        "*   Single line Comments and multiline comments.\n",
        "*   Basic syntax rules in python.\n",
        "*   Comman syntax error\n",
        "\n"
      ]
    },
    {
      "cell_type": "markdown",
      "metadata": {
        "id": "lZmg7ekeBsoK"
      },
      "source": [
        "## Syntax:\n",
        "### In programming, syntax refers to the set of rules that define the correct structure of code. It dictates how symbols, keywords, and characters should be arranged. Proper syntax ensures that the code is readable and can be executed by the computer.\n",
        "\n",
        "\n",
        "#### Syntax is how we are able to arrange the words so we write a code."
      ]
    },
    {
      "cell_type": "markdown",
      "metadata": {
        "id": "-5n1EtvrGvOb"
      },
      "source": [
        "## Correct Syntax"
      ]
    },
    {
      "cell_type": "code",
      "execution_count": null,
      "metadata": {
        "colab": {
          "base_uri": "https://localhost:8080/"
        },
        "id": "knG7ES3TGuHU",
        "outputId": "23242191-12a8-446e-adae-69903c25eeda"
      },
      "outputs": [
        {
          "name": "stdout",
          "output_type": "stream",
          "text": [
            "Hello, world!\n"
          ]
        }
      ],
      "source": [
        "print(\"Hello, world!\")\n"
      ]
    },
    {
      "cell_type": "markdown",
      "metadata": {
        "id": "a26U5yLCG0nr"
      },
      "source": [
        "## Incorrect Syntax:"
      ]
    },
    {
      "cell_type": "code",
      "execution_count": null,
      "metadata": {
        "id": "fagcedxsG2dd"
      },
      "outputs": [],
      "source": [
        "print(\"Hello, world!)"
      ]
    },
    {
      "cell_type": "markdown",
      "metadata": {
        "id": "FV698lEkWSNQ"
      },
      "source": [
        "## Name error"
      ]
    },
    {
      "cell_type": "code",
      "execution_count": null,
      "metadata": {
        "id": "_6YMBq0fWUoC"
      },
      "outputs": [],
      "source": [
        "a = b"
      ]
    },
    {
      "cell_type": "markdown",
      "metadata": {
        "id": "Ss62_uXgFxUr"
      },
      "source": [
        "## Semantics\n",
        "### In programming, semantics refers to the meaning of the code and what it does when executed. It focuses on the behavior and results of the instructions.\n",
        "\n",
        "* While syntax is about the structure, semantics is about the action and outcome.\n",
        "\n",
        "\n"
      ]
    },
    {
      "cell_type": "markdown",
      "metadata": {
        "id": "6Rp-o7tZG6vt"
      },
      "source": [
        "## Correct Semantics:\n",
        "### The semantics are correct; the code will run and display 8, as the instructions perform the intended addition."
      ]
    },
    {
      "cell_type": "code",
      "execution_count": null,
      "metadata": {
        "colab": {
          "base_uri": "https://localhost:8080/"
        },
        "id": "xGkNiMJgAJTr",
        "outputId": "0587b138-6fb3-479f-b425-c7760a6d1849"
      },
      "outputs": [
        {
          "name": "stdout",
          "output_type": "stream",
          "text": [
            "8\n"
          ]
        }
      ],
      "source": [
        "a = 5\n",
        "b = 3\n",
        "result = a + b\n",
        "print(result)\n"
      ]
    },
    {
      "cell_type": "markdown",
      "metadata": {
        "id": "IwSbDnCtHFwC"
      },
      "source": [
        "## Incorrect Semantics:\n",
        "### The syntax is correct, but the semantics might be incorrect if the intention was to add a and b instead of subtracting them. The code will run and display 2, but it may not achieve the desired outcome."
      ]
    },
    {
      "cell_type": "code",
      "execution_count": null,
      "metadata": {
        "colab": {
          "base_uri": "https://localhost:8080/"
        },
        "id": "3jHMTgO1G92_",
        "outputId": "e1868003-b165-48c0-b8d1-96af86a4a49c"
      },
      "outputs": [
        {
          "name": "stdout",
          "output_type": "stream",
          "text": [
            "2\n"
          ]
        }
      ],
      "source": [
        "a = 5\n",
        "b = 3\n",
        "result = a - b\n",
        "print(result)\n"
      ]
    },
    {
      "cell_type": "markdown",
      "metadata": {
        "id": "_efOimKeHyfC"
      },
      "source": [
        "## Single line  comments"
      ]
    },
    {
      "cell_type": "code",
      "execution_count": null,
      "metadata": {
        "id": "XcRHPK_EHKt3"
      },
      "outputs": [],
      "source": [
        "# Write hash symbol in the start of every line. That you want to make a comment.\n",
        "# Here we will start coding.\n",
        "# We write comment to mention some information about the function or to explain our code"
      ]
    },
    {
      "cell_type": "markdown",
      "metadata": {
        "id": "52ix44knJkf_"
      },
      "source": [
        "## Multi-line comments"
      ]
    },
    {
      "cell_type": "code",
      "execution_count": null,
      "metadata": {
        "id": "Q1A5MiwhJqDv"
      },
      "outputs": [],
      "source": [
        "# It will work in vs code(in .py file):\n",
        "'''\n",
        "sdsfsdf\n",
        "sfsdfs\n",
        "'''"
      ]
    },
    {
      "cell_type": "markdown",
      "metadata": {
        "id": "_1_P5DbXKYrn"
      },
      "source": [
        "## Basic syntax.\n",
        "### Case sensitivity: Python is case sensitive."
      ]
    },
    {
      "cell_type": "code",
      "execution_count": null,
      "metadata": {
        "colab": {
          "base_uri": "https://localhost:8080/"
        },
        "id": "pjmsi__jJtlZ",
        "outputId": "7f3b850d-dca8-4d72-a230-a1cef8d3696a"
      },
      "outputs": [
        {
          "name": "stdout",
          "output_type": "stream",
          "text": [
            "John\n",
            "Ali\n"
          ]
        }
      ],
      "source": [
        "name = \"John\"\n",
        "Name = \"Ali\"\n",
        "print(name)\n",
        "print(Name)"
      ]
    },
    {
      "cell_type": "markdown",
      "metadata": {
        "id": "bIket9KASRSp"
      },
      "source": [
        "## Line Continuation"
      ]
    },
    {
      "cell_type": "code",
      "execution_count": null,
      "metadata": {
        "colab": {
          "base_uri": "https://localhost:8080/"
        },
        "id": "qtucI_6ISUt6",
        "outputId": "af63b0b0-e931-496b-f496-a5191285881e"
      },
      "outputs": [
        {
          "name": "stdout",
          "output_type": "stream",
          "text": [
            "36\n",
            "36\n"
          ]
        }
      ],
      "source": [
        "# We use back slash to extend our same line of code to next line\n",
        "total = 1 + 2 + 3 + \\\n",
        "        4 + 5 + 6 + \\\n",
        "        7 + 8\n",
        "print(total)\n",
        "\n",
        "num = 1+2+3+4+5+6+7+8\n",
        "print(num)"
      ]
    },
    {
      "cell_type": "markdown",
      "metadata": {
        "id": "ellh9JB2Tbmt"
      },
      "source": [
        "## Multiple statements on a single line"
      ]
    },
    {
      "cell_type": "code",
      "execution_count": null,
      "metadata": {
        "colab": {
          "base_uri": "https://localhost:8080/"
        },
        "id": "cqJg8B1BTfgj",
        "outputId": "e04e6265-edc5-44cd-f225-39c5d2626f74"
      },
      "outputs": [
        {
          "name": "stdout",
          "output_type": "stream",
          "text": [
            "x = 5  y = 2\n",
            "x + y = 7\n"
          ]
        }
      ],
      "source": [
        "x = 5; y = 2; z = x + y\n",
        "print(f\"x = {x}\",f\"y = {y}\")\n",
        "print(f\"x + y = {z}\")"
      ]
    },
    {
      "cell_type": "markdown",
      "metadata": {
        "id": "cKixlvQgLAtr"
      },
      "source": [
        "## Indentation:\n",
        "### Indentation in python is used to define the structure of the code. In other language they use braces {} but pyhton use indentation to determine the grouping of the statements. All the statements within a block must be indented at the same level.\n",
        "\n",
        "### Python uses indentation to define blocks of code. Consistent use of space (commonly 4 ) or a tab is required."
      ]
    },
    {
      "cell_type": "code",
      "execution_count": null,
      "metadata": {
        "id": "5hKb2k8dKvxx"
      },
      "outputs": [],
      "source": [
        " age = 32\n",
        " # After colan : it is using indentation in other programming languages we use {}\n",
        "if age > 18:\n",
        "    print(\"You are eligible to vote.\")\n",
        "else:\n",
        "    print(\"You are not eligible to vote.\")"
      ]
    },
    {
      "cell_type": "markdown",
      "metadata": {
        "id": "ftT3AioRWzBK"
      },
      "source": [
        "## Code examples of indentations"
      ]
    },
    {
      "cell_type": "code",
      "execution_count": null,
      "metadata": {
        "colab": {
          "background_save": true,
          "base_uri": "https://localhost:8080/",
          "height": 106
        },
        "id": "Pk7zT9_0Wyud",
        "outputId": "1f983c7c-c92e-43e6-8295-959dec05cf7a"
      },
      "outputs": [
        {
          "ename": "IndentationError",
          "evalue": "unindent does not match any outer indentation level (<tokenize>, line 3)",
          "output_type": "error",
          "traceback": [
            "\u001b[0;36m  File \u001b[0;32m\"<tokenize>\"\u001b[0;36m, line \u001b[0;32m3\u001b[0m\n\u001b[0;31m    if False:\u001b[0m\n\u001b[0m    ^\u001b[0m\n\u001b[0;31mIndentationError\u001b[0m\u001b[0;31m:\u001b[0m unindent does not match any outer indentation level\n"
          ]
        }
      ],
      "source": [
        "if True:\n",
        "    print(\"This should print\")\n",
        "  if False:\n",
        "      print(\"This should not print\")\n",
        "  print(\"This should also print\")\n",
        "print(\"This should also print too\")"
      ]
    }
  ],
  "metadata": {
    "colab": {
      "provenance": []
    },
    "kernelspec": {
      "display_name": "Python 3",
      "name": "python3"
    },
    "language_info": {
      "name": "python"
    }
  },
  "nbformat": 4,
  "nbformat_minor": 0
}
